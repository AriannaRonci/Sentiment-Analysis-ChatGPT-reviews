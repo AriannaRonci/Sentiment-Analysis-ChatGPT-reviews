{
  "nbformat": 4,
  "nbformat_minor": 0,
  "metadata": {
    "colab": {
      "provenance": []
    },
    "kernelspec": {
      "name": "python3",
      "display_name": "Python 3"
    },
    "language_info": {
      "name": "python"
    }
  },
  "cells": [
    {
      "cell_type": "code",
      "execution_count": 1,
      "metadata": {
        "id": "hK-fGaAmnqf2",
        "colab": {
          "base_uri": "https://localhost:8080/"
        },
        "outputId": "4868891f-02d6-4f08-8996-3a31d7a80c05"
      },
      "outputs": [
        {
          "output_type": "stream",
          "name": "stdout",
          "text": [
            "ciao\n"
          ]
        }
      ],
      "source": [
        "print('ciao')"
      ]
    },
    {
      "cell_type": "code",
      "source": [],
      "metadata": {
        "id": "rxFHldoDpE5r"
      },
      "execution_count": null,
      "outputs": []
    }
  ]
}